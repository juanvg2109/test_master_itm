{
  "nbformat": 4,
  "nbformat_minor": 0,
  "metadata": {
    "colab": {
      "provenance": [],
      "authorship_tag": "ABX9TyOfbFxnYUyWzO8Up2m6j4AW",
      "include_colab_link": true
    },
    "kernelspec": {
      "name": "python3",
      "display_name": "Python 3"
    },
    "language_info": {
      "name": "python"
    }
  },
  "cells": [
    {
      "cell_type": "markdown",
      "metadata": {
        "id": "view-in-github",
        "colab_type": "text"
      },
      "source": [
        "<a href=\"https://colab.research.google.com/github/juanvg2109/master_itm/blob/main/Comandos_git.ipynb\" target=\"_parent\"><img src=\"https://colab.research.google.com/assets/colab-badge.svg\" alt=\"Open In Colab\"/></a>"
      ]
    },
    {
      "cell_type": "markdown",
      "source": [
        "Acceso a drive"
      ],
      "metadata": {
        "id": "DkIuj5Rj3hId"
      }
    },
    {
      "cell_type": "code",
      "source": [
        "from google.colab import drive\n",
        "drive.mount('/content/drive')"
      ],
      "metadata": {
        "colab": {
          "base_uri": "https://localhost:8080/"
        },
        "id": "FlLbUCAd3fx6",
        "outputId": "6d8bc04d-0e52-48de-c886-322443f4653e"
      },
      "execution_count": null,
      "outputs": [
        {
          "output_type": "stream",
          "name": "stdout",
          "text": [
            "Mounted at /content/drive\n"
          ]
        }
      ]
    },
    {
      "cell_type": "code",
      "execution_count": null,
      "metadata": {
        "colab": {
          "base_uri": "https://localhost:8080/"
        },
        "id": "MJjlhdPxyjyb",
        "outputId": "039b2eab-a517-4dcc-b2f3-297324eee965"
      },
      "outputs": [
        {
          "output_type": "stream",
          "name": "stdout",
          "text": [
            "Cloning into 'master_itm'...\n",
            "remote: Enumerating objects: 15, done.\u001b[K\n",
            "remote: Counting objects: 100% (15/15), done.\u001b[K\n",
            "remote: Compressing objects: 100% (13/13), done.\u001b[K\n",
            "remote: Total 15 (delta 2), reused 0 (delta 0), pack-reused 0\u001b[K\n",
            "Receiving objects: 100% (15/15), 14.45 KiB | 1.20 MiB/s, done.\n",
            "Resolving deltas: 100% (2/2), done.\n"
          ]
        }
      ],
      "source": [
        "# Clonar tu repositorio de GitHub\n",
        "!git clone https://github.com/juanvg2109/master_itm.git"
      ]
    },
    {
      "cell_type": "markdown",
      "source": [
        "Dentro de la el directorio content crea la carpeta con el repositorio"
      ],
      "metadata": {
        "id": "PUAMV_IS2RvR"
      }
    },
    {
      "cell_type": "code",
      "source": [
        "%cd master_itm"
      ],
      "metadata": {
        "colab": {
          "base_uri": "https://localhost:8080/"
        },
        "id": "9FVl_PrW0_eC",
        "outputId": "eb3fce3c-18c2-4b1c-c052-1f830eef4ff1"
      },
      "execution_count": null,
      "outputs": [
        {
          "output_type": "stream",
          "name": "stdout",
          "text": [
            "/content/master_itm\n"
          ]
        }
      ]
    },
    {
      "cell_type": "markdown",
      "source": [
        "Copiar desde el explorador de archivos (izq) el notebook Comandos git.ipynb desde la ruta del drive en 'Colab Notebooks' a 'master_itm'"
      ],
      "metadata": {
        "id": "icOiclp34eAJ"
      }
    },
    {
      "cell_type": "markdown",
      "source": [
        "Opciones de configuración"
      ],
      "metadata": {
        "id": "nbgErM251c7C"
      }
    },
    {
      "cell_type": "code",
      "source": [
        "!git config --global user.email \"e-mail\"\n",
        "!git config --global user.name \"nombre\"\n",
        "!git config --global credential.helper store"
      ],
      "metadata": {
        "id": "zJivDOOV1FeR"
      },
      "execution_count": null,
      "outputs": []
    },
    {
      "cell_type": "markdown",
      "source": [
        "Añadir cambios, confirmar y subirlos"
      ],
      "metadata": {
        "id": "ao-D82nJ1fK5"
      }
    },
    {
      "cell_type": "code",
      "source": [
        "# Agregar, confirmar y subir cambios\n",
        "!git add Comandos_git.ipynb\n",
        "!git commit -m \"Cambios realizados en collab\""
      ],
      "metadata": {
        "colab": {
          "base_uri": "https://localhost:8080/"
        },
        "id": "MrXD2Wqg1Jwp",
        "outputId": "38840c11-f517-4edd-a151-ece88d86bb8d"
      },
      "execution_count": null,
      "outputs": [
        {
          "output_type": "stream",
          "name": "stdout",
          "text": [
            "[main e8a6e2e] Cambios realzados en collab\n",
            " 1 file changed, 1 insertion(+)\n",
            " create mode 100644 Comandos_git.ipynb\n"
          ]
        }
      ]
    },
    {
      "cell_type": "code",
      "source": [
        "!git log"
      ],
      "metadata": {
        "colab": {
          "base_uri": "https://localhost:8080/"
        },
        "collapsed": true,
        "id": "LdnGW2_Q5TzW",
        "outputId": "8a1c9bdb-fe6f-45c0-e252-3d478ba9d3e5"
      },
      "execution_count": null,
      "outputs": [
        {
          "output_type": "stream",
          "name": "stdout",
          "text": [
            "\u001b[33mcommit e8a6e2e7d98a60c6655f6f8e00e7b3135bbef32c\u001b[m\u001b[33m (\u001b[m\u001b[1;36mHEAD -> \u001b[m\u001b[1;32mmain\u001b[m\u001b[33m)\u001b[m\n",
            "Author: J. Vidal <juanvg1972@gmail.com>\n",
            "Date:   Thu May 30 11:11:58 2024 +0000\n",
            "\n",
            "    Cambios realzados en collab\n",
            "\n",
            "\u001b[33mcommit b9cb5f90572e1d10a34715e68b5657fe46562206\u001b[m\u001b[33m (\u001b[m\u001b[1;31morigin/main\u001b[m\u001b[33m, \u001b[m\u001b[1;31morigin/HEAD\u001b[m\u001b[33m)\u001b[m\n",
            "Author: juanvg2109 <54797798+juanvg2109@users.noreply.github.com>\n",
            "Date:   Thu May 30 11:22:37 2024 +0200\n",
            "\n",
            "    Add files via upload\n",
            "\n",
            "\u001b[33mcommit eb8d3380929f170b4d2a314ff21fc2fcac383ef1\u001b[m\n",
            "Author: juanvg2109 <54797798+juanvg2109@users.noreply.github.com>\n",
            "Date:   Thu May 30 11:14:45 2024 +0200\n",
            "\n",
            "    Creado con Colab\n",
            "\n",
            "\u001b[33mcommit 7cac856b7ced765153808bfa7d4ec832a2c85e12\u001b[m\n",
            "Author: juanvg2109 <54797798+juanvg2109@users.noreply.github.com>\n",
            "Date:   Wed May 29 11:05:06 2024 +0200\n",
            "\n",
            "    Add files via upload\n",
            "\n",
            "\u001b[33mcommit 95a45945924fc523e13176fbed2832b2737550f6\u001b[m\n",
            "Author: juanvg2109 <54797798+juanvg2109@users.noreply.github.com>\n",
            "Date:   Wed May 29 11:02:44 2024 +0200\n",
            "\n",
            "    Add files via upload\n",
            "\n",
            "\u001b[33mcommit 4af79cd8a98ac3f685bc2c85dda227432245169d\u001b[m\n",
            "Author: juanvg2109 <54797798+juanvg2109@users.noreply.github.com>\n",
            "Date:   Wed May 29 09:46:45 2024 +0200\n",
            "\n",
            "    Initial commit\n"
          ]
        }
      ]
    },
    {
      "cell_type": "markdown",
      "source": [
        "Lo subimos al repositorio remoto github"
      ],
      "metadata": {
        "id": "KMnROse-34cg"
      }
    },
    {
      "cell_type": "code",
      "source": [
        "!git remote -v"
      ],
      "metadata": {
        "colab": {
          "base_uri": "https://localhost:8080/"
        },
        "collapsed": true,
        "id": "EVJOROEyNO-V",
        "outputId": "26ab79e5-446b-46e0-dce2-340bce7568f6"
      },
      "execution_count": null,
      "outputs": [
        {
          "output_type": "stream",
          "name": "stdout",
          "text": [
            "origin\thttps://github.com/juanvg2109/master_itm.git (fetch)\n",
            "origin\thttps://github.com/juanvg2109/master_itm.git (push)\n"
          ]
        }
      ]
    },
    {
      "cell_type": "markdown",
      "source": [
        "Es necesario crear un Personal Access Token en github.Settings -> Tokens.   https://github.com/settings/tokens"
      ],
      "metadata": {
        "id": "M5hs1KlKQCjH"
      }
    },
    {
      "cell_type": "code",
      "source": [
        "# Proporciona tus credenciales y realiza el push\n",
        "!echo \"https://<tu_usuario>:<tu_PAT>@github.com\" > ~/.git-credentials"
      ],
      "metadata": {
        "id": "_QV8h55-P4LA"
      },
      "execution_count": null,
      "outputs": []
    },
    {
      "cell_type": "code",
      "source": [
        "!git push origin main"
      ],
      "metadata": {
        "colab": {
          "base_uri": "https://localhost:8080/"
        },
        "id": "Nj2IH5FV4AUT",
        "outputId": "7685b239-31ae-4af1-f8c6-aa904bf899c4"
      },
      "execution_count": null,
      "outputs": [
        {
          "output_type": "stream",
          "name": "stdout",
          "text": [
            "Enumerating objects: 4, done.\n",
            "Counting objects:  25% (1/4)\rCounting objects:  50% (2/4)\rCounting objects:  75% (3/4)\rCounting objects: 100% (4/4)\rCounting objects: 100% (4/4), done.\n",
            "Delta compression using up to 2 threads\n",
            "Compressing objects:  33% (1/3)\rCompressing objects:  66% (2/3)\rCompressing objects: 100% (3/3)\rCompressing objects: 100% (3/3), done.\n",
            "Writing objects:  33% (1/3)\rWriting objects:  66% (2/3)\rWriting objects: 100% (3/3)\rWriting objects: 100% (3/3), 1.76 KiB | 1.76 MiB/s, done.\n",
            "Total 3 (delta 1), reused 0 (delta 0), pack-reused 0\n",
            "remote: Resolving deltas: 100% (1/1), completed with 1 local object.\u001b[K\n",
            "To https://github.com/juanvg2109/master_itm.git\n",
            "   b9cb5f9..e8a6e2e  main -> main\n"
          ]
        }
      ]
    },
    {
      "cell_type": "markdown",
      "source": [
        "Bajamos un elemento concreto"
      ],
      "metadata": {
        "id": "sYL7lyP14CaA"
      }
    },
    {
      "cell_type": "markdown",
      "source": [
        "Si hacemos cambios en remoto y queremos bajarlos"
      ],
      "metadata": {
        "id": "-JUZuH55S0uP"
      }
    },
    {
      "cell_type": "code",
      "source": [
        "!git pull origin main"
      ],
      "metadata": {
        "colab": {
          "base_uri": "https://localhost:8080/"
        },
        "id": "1sx-D7of33kJ",
        "outputId": "33f184b0-53cc-46b9-c780-f052f2c4f9b7"
      },
      "execution_count": null,
      "outputs": [
        {
          "output_type": "stream",
          "name": "stdout",
          "text": [
            "remote: Enumerating objects: 4, done.\u001b[K\n",
            "remote: Counting objects:  25% (1/4)\u001b[K\rremote: Counting objects:  50% (2/4)\u001b[K\rremote: Counting objects:  75% (3/4)\u001b[K\rremote: Counting objects: 100% (4/4)\u001b[K\rremote: Counting objects: 100% (4/4), done.\u001b[K\n",
            "remote: Compressing objects:  33% (1/3)\u001b[K\rremote: Compressing objects:  66% (2/3)\u001b[K\rremote: Compressing objects: 100% (3/3)\u001b[K\rremote: Compressing objects: 100% (3/3), done.\u001b[K\n",
            "remote: Total 3 (delta 1), reused 0 (delta 0), pack-reused 0\u001b[K\n",
            "Unpacking objects:  33% (1/3)\rUnpacking objects:  66% (2/3)\rUnpacking objects: 100% (3/3)\rUnpacking objects: 100% (3/3), 1.69 KiB | 1.69 MiB/s, done.\n",
            "From https://github.com/juanvg2109/master_itm\n",
            " * branch            main       -> FETCH_HEAD\n",
            "   e8a6e2e..50397dd  main       -> origin/main\n",
            "Updating e8a6e2e..50397dd\n",
            "Fast-forward\n",
            " P10_ficheros.ipynb | 125 \u001b[32m+++++++++++++++++++++++++++++++++++++++++++++++++++++++++++++++++++++++++\u001b[m\n",
            " 1 file changed, 125 insertions(+)\n",
            " create mode 100644 P10_ficheros.ipynb\n"
          ]
        }
      ]
    },
    {
      "cell_type": "code",
      "source": [],
      "metadata": {
        "id": "paKJS9KTSOjh"
      },
      "execution_count": null,
      "outputs": []
    }
  ]
}