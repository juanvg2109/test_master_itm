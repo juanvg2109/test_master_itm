{
  "cells": [
    {
      "cell_type": "markdown",
      "metadata": {
        "id": "AB2htx49XQpZ"
      },
      "source": [
        "Trabajo con funciones"
      ]
    },
    {
      "cell_type": "markdown",
      "metadata": {
        "id": "EwsoSQdmXQpd"
      },
      "source": [
        "__Definición__ de una función"
      ]
    },
    {
      "cell_type": "code",
      "execution_count": null,
      "metadata": {
        "id": "ojrdci24XQpe"
      },
      "outputs": [],
      "source": [
        "def validar_par(a):\n",
        "    if a % 2 == 0:\n",
        "        par = True\n",
        "    else:\n",
        "        par = False\n",
        "    return par"
      ]
    },
    {
      "cell_type": "code",
      "execution_count": null,
      "metadata": {
        "scrolled": true,
        "id": "H9c8VnnvXQpf"
      },
      "outputs": [],
      "source": [
        "res = validar_par(\"a\")\n",
        "res"
      ]
    },
    {
      "cell_type": "code",
      "execution_count": null,
      "metadata": {
        "id": "9jN5aNa-XQpg"
      },
      "outputs": [],
      "source": [
        "def validar_par2(a):\n",
        "    if (type(a) is int) and (a % 2 == 0):\n",
        "        par = True\n",
        "    else:\n",
        "        par = False\n",
        "    return par"
      ]
    },
    {
      "cell_type": "code",
      "execution_count": null,
      "metadata": {
        "id": "R70B2A00XQpg",
        "outputId": "2905ad74-ca1e-4062-e6d8-7b02eadd0a3c"
      },
      "outputs": [
        {
          "data": {
            "text/plain": [
              "True"
            ]
          },
          "execution_count": 15,
          "metadata": {},
          "output_type": "execute_result"
        }
      ],
      "source": [
        "validar_par2(4)"
      ]
    },
    {
      "cell_type": "code",
      "execution_count": null,
      "metadata": {
        "id": "9383wdwHXQph"
      },
      "outputs": [],
      "source": [
        "def comparar_cadenas(cad1, cad2):\n",
        "    \"\"\"se comparar 2 cadenas de texto pasadas\n",
        "       como argumento. Devuelve True o False según\n",
        "       sean iguales o distintas\"\"\"\n",
        "    if type(cad1) is str and type(cad2) is str:\n",
        "        print(\"Cadenas correctas\")\n",
        "        if cad1.upper().strip() == cad2.upper().strip():\n",
        "            print(\"Cadenas iguales\")\n",
        "            return True\n",
        "        else:\n",
        "            print(\"Cadenas distintas\")\n",
        "            return False\n",
        "    else:\n",
        "        print(\"Las variables deben ser de tipo string\")"
      ]
    },
    {
      "cell_type": "code",
      "execution_count": null,
      "metadata": {
        "id": "eJS8LwtTXQpi",
        "outputId": "6ecd480d-866b-4c58-ba9f-f891f7c9c7b9"
      },
      "outputs": [
        {
          "data": {
            "text/plain": [
              "<function __main__.comparar_cadenas(cad1, cad2)>"
            ]
          },
          "execution_count": 18,
          "metadata": {},
          "output_type": "execute_result"
        }
      ],
      "source": [
        "comparar_cadenas"
      ]
    },
    {
      "cell_type": "markdown",
      "metadata": {
        "id": "VwEEv8AOXQpj"
      },
      "source": [
        "__Llamada__ a la función"
      ]
    },
    {
      "cell_type": "code",
      "execution_count": null,
      "metadata": {
        "id": "GOb0JEd4XQpj",
        "outputId": "8dbc1148-6e96-4a4e-f89c-de1307b243e9"
      },
      "outputs": [
        {
          "name": "stdout",
          "output_type": "stream",
          "text": [
            "Cadenas correctas\n",
            "Cadenas distintas\n"
          ]
        },
        {
          "data": {
            "text/plain": [
              "False"
            ]
          },
          "execution_count": 20,
          "metadata": {},
          "output_type": "execute_result"
        }
      ],
      "source": [
        "c1 = \"Madrid \"\n",
        "c2 = \"   MADRID   \"\n",
        "res = comparar_cadenas(c2, c1)\n",
        "res"
      ]
    },
    {
      "cell_type": "code",
      "execution_count": null,
      "metadata": {
        "id": "25rn3nZ9XQpk",
        "outputId": "092899aa-6811-4e7a-c9d2-64fb2ab8505a"
      },
      "outputs": [
        {
          "name": "stdout",
          "output_type": "stream",
          "text": [
            "Cadenas correctas\n",
            "Cadenas distintas\n"
          ]
        },
        {
          "data": {
            "text/plain": [
              "False"
            ]
          },
          "execution_count": 21,
          "metadata": {},
          "output_type": "execute_result"
        }
      ],
      "source": [
        "comparar_cadenas(cad1=c1, cad2=c2)"
      ]
    },
    {
      "cell_type": "code",
      "execution_count": null,
      "metadata": {
        "id": "eDRyk6hjXQpk"
      },
      "outputs": [],
      "source": [
        "def longitud_cadenas(lista_cad):\n",
        "    max=len(lista_cad[0])\n",
        "    cad_max = lista_cad[0]\n",
        "    for cad in lista_cad:\n",
        "        if len(cad) > max:\n",
        "            max = len(cad)\n",
        "            cad_max = cad\n",
        "    return max, cad_max"
      ]
    },
    {
      "cell_type": "code",
      "execution_count": null,
      "metadata": {
        "id": "82ZFfIoJXQpk",
        "outputId": "25cf0e90-1d92-459e-9e28-d8a7d7c78861"
      },
      "outputs": [
        {
          "data": {
            "text/plain": [
              "(11, 'hola1234567')"
            ]
          },
          "execution_count": 23,
          "metadata": {},
          "output_type": "execute_result"
        }
      ],
      "source": [
        "lista = [\"hola123\", \"hola12345\", \"hola1234567\", \"hola12\"]\n",
        "res, cad = longitud_cadenas(lista)\n",
        "res, cad"
      ]
    },
    {
      "cell_type": "code",
      "execution_count": null,
      "metadata": {
        "id": "Zzy0-ZguXQpl",
        "outputId": "f6fc281d-4b29-4923-cf42-d4680fa1b692"
      },
      "outputs": [
        {
          "data": {
            "text/plain": [
              "((11, 'hola1234567'), tuple)"
            ]
          },
          "execution_count": 20,
          "metadata": {},
          "output_type": "execute_result"
        }
      ],
      "source": [
        "res = longitud_cadenas(lista)\n",
        "res, type(res)"
      ]
    },
    {
      "cell_type": "code",
      "execution_count": null,
      "metadata": {
        "id": "FOXp1pfiXQpl"
      },
      "outputs": [],
      "source": [
        "Función para obtener el día de la semana de una fecha"
      ]
    },
    {
      "cell_type": "code",
      "execution_count": null,
      "metadata": {
        "id": "69_Z1lXvXQpl"
      },
      "outputs": [],
      "source": [
        "def dia_semana(fec):\n",
        "    dia = fec.weekday()\n",
        "    if dia == 0:\n",
        "        return \"Lunes\"\n",
        "    elif dia == 1:\n",
        "        return \"Martes\"\n",
        "    elif dia == 2:\n",
        "        return \"Miercoles\"\n",
        "    elif dia == 3:\n",
        "        return \"Jueves\"\n",
        "    elif dia == 4:\n",
        "        return \"Viernes\"\n",
        "    elif dia == 5:\n",
        "        return \"Sábado\"\n",
        "    else: return \"Domingo\""
      ]
    },
    {
      "cell_type": "code",
      "execution_count": null,
      "metadata": {
        "id": "ovDICVEUXQpm"
      },
      "outputs": [],
      "source": [
        "def dia_semana2(fec):\n",
        "    dia = fec.weekday()\n",
        "    if dia == 0:\n",
        "        diasem = \"Lunes\"\n",
        "    elif dia == 1:\n",
        "        diasem = \"Martes\"\n",
        "    elif dia == 2:\n",
        "        diasem = \"Miercoles\"\n",
        "    elif dia == 3:\n",
        "        diasem = \"Jueves\"\n",
        "    elif dia == 4:\n",
        "        diasem = \"Viernes\"\n",
        "    elif dia == 5:\n",
        "        diasem = \"Sábado\"\n",
        "    else: diasem = \"Domingo\"\n",
        "    return diasem # devolvemos el valor"
      ]
    },
    {
      "cell_type": "code",
      "execution_count": null,
      "metadata": {
        "id": "A1OEr2K-XQpm",
        "outputId": "ed97ccb6-89ce-443f-c8ee-f18c28d5e20b"
      },
      "outputs": [
        {
          "data": {
            "text/plain": [
              "'Martes'"
            ]
          },
          "execution_count": 28,
          "metadata": {},
          "output_type": "execute_result"
        }
      ],
      "source": [
        "from datetime import date  #para trabajar con fecha\n",
        "fec1 = date.today()\n",
        "#fec1 = date(2020,2,19)\n",
        "dia_semana2(fec=fec1)"
      ]
    },
    {
      "cell_type": "markdown",
      "metadata": {
        "id": "o2owKZP_XQpm"
      },
      "source": [
        "Añadir tipos den la definición de la función"
      ]
    },
    {
      "cell_type": "code",
      "execution_count": null,
      "metadata": {
        "id": "g18wo8SzXQpn"
      },
      "outputs": [],
      "source": [
        "def repetir_cadena(cadena: str,repetir: int) -> str:\n",
        "    return cadena * repetir"
      ]
    },
    {
      "cell_type": "code",
      "execution_count": null,
      "metadata": {
        "id": "b2z3RwesXQpn",
        "outputId": "5889e80c-eb0c-4d71-e419-e9391af3f841"
      },
      "outputs": [
        {
          "data": {
            "text/plain": [
              "'holaholaholahola'"
            ]
          },
          "execution_count": 4,
          "metadata": {},
          "output_type": "execute_result"
        }
      ],
      "source": [
        "repetir_cadena(\"hola\", 4)"
      ]
    },
    {
      "cell_type": "code",
      "execution_count": null,
      "metadata": {
        "id": "uCvOOIwqXQpo"
      },
      "outputs": [],
      "source": [
        "def recorrer_fechas(lista_fec):\n",
        "    if type(lista_fec) is list:\n",
        "        if len(lista_fec) == 0:\n",
        "            print(\"Lista vacía\")\n",
        "        else:\n",
        "            lista_dias = []\n",
        "            for fec in lista_fec:\n",
        "                dia_s = dia_semana2(fec)\n",
        "                lista_dias.append(dia_s)\n",
        "            return lista_dias\n",
        "    else:\n",
        "        print(\"El argumento no es de tipo lista\")"
      ]
    },
    {
      "cell_type": "code",
      "execution_count": null,
      "metadata": {
        "id": "fYMCjJ-SXQpo",
        "outputId": "003beaa8-4368-4607-bd59-79546b29d634"
      },
      "outputs": [
        {
          "data": {
            "text/plain": [
              "['Martes', 'Miercoles', 'Domingo']"
            ]
          },
          "execution_count": 32,
          "metadata": {},
          "output_type": "execute_result"
        }
      ],
      "source": [
        "lista_fec1 = [date(2020,10,20), date(2020,10,21), date(2020,12,27)]\n",
        "type(lista_fec1)\n",
        "recorrer_fechas(lista_fec=lista_fec1)"
      ]
    },
    {
      "cell_type": "code",
      "execution_count": null,
      "metadata": {
        "id": "KTkgkCKkXQpo",
        "outputId": "c708f59e-9957-4f3c-bf9c-7df7d6d88654"
      },
      "outputs": [
        {
          "name": "stdout",
          "output_type": "stream",
          "text": [
            "No es lista\n"
          ]
        }
      ],
      "source": [
        "if lista_fec1 is list:\n",
        "    print(\"lista\")\n",
        "else:\n",
        "    print(\"No es lista\")"
      ]
    },
    {
      "cell_type": "code",
      "execution_count": null,
      "metadata": {
        "id": "XmtnmLuQXQpp"
      },
      "outputs": [],
      "source": [
        "lista_fec1 = 5\n",
        "recorrer_fechas(lista_fec1)"
      ]
    },
    {
      "cell_type": "code",
      "execution_count": null,
      "metadata": {
        "id": "g_6Naf1ZXQpp"
      },
      "outputs": [],
      "source": [
        "Ejemplos de funciones lambda y operadores: map, filter"
      ]
    },
    {
      "cell_type": "code",
      "execution_count": null,
      "metadata": {
        "id": "Mnznm3i2XQpq"
      },
      "outputs": [],
      "source": [
        "def suma3(x):\n",
        "    return (x + 3)"
      ]
    },
    {
      "cell_type": "code",
      "execution_count": null,
      "metadata": {
        "id": "I4gZM59zXQpq",
        "outputId": "ffd80859-2f65-4734-d9da-68e59472155e"
      },
      "outputs": [
        {
          "data": {
            "text/plain": [
              "5"
            ]
          },
          "execution_count": 2,
          "metadata": {},
          "output_type": "execute_result"
        }
      ],
      "source": [
        "suma3(2)"
      ]
    },
    {
      "cell_type": "code",
      "execution_count": null,
      "metadata": {
        "id": "FGL3DXjRXQpq",
        "outputId": "b8c50ef4-271f-4868-a4b7-254e03a8a0b1"
      },
      "outputs": [
        {
          "data": {
            "text/plain": [
              "5"
            ]
          },
          "execution_count": 4,
          "metadata": {},
          "output_type": "execute_result"
        }
      ],
      "source": [
        "(lambda x: x+3)(2)"
      ]
    },
    {
      "cell_type": "code",
      "execution_count": null,
      "metadata": {
        "id": "NI6wToskXQpr"
      },
      "outputs": [],
      "source": [
        "suma3l = lambda x: x+3"
      ]
    },
    {
      "cell_type": "code",
      "execution_count": null,
      "metadata": {
        "id": "zTpYwIz5XQpr",
        "outputId": "1713ba4c-511c-477e-9fff-0e12a920d08c"
      },
      "outputs": [
        {
          "data": {
            "text/plain": [
              "6"
            ]
          },
          "execution_count": 28,
          "metadata": {},
          "output_type": "execute_result"
        }
      ],
      "source": [
        "suma3l(3)"
      ]
    },
    {
      "cell_type": "markdown",
      "metadata": {
        "id": "LcaC8qwRXQpr"
      },
      "source": [
        "Ejemplos __map__, __filter__ y __reduce__"
      ]
    },
    {
      "cell_type": "code",
      "execution_count": null,
      "metadata": {
        "id": "f8SDKimTXQpr",
        "outputId": "19c84389-267b-4fff-fa3b-094e6f94b832"
      },
      "outputs": [
        {
          "data": {
            "text/plain": [
              "[0, 1, 2, 3, 4, 5, 6, 7, 8, 9]"
            ]
          },
          "execution_count": 6,
          "metadata": {},
          "output_type": "execute_result"
        }
      ],
      "source": [
        "range(10)"
      ]
    },
    {
      "cell_type": "code",
      "execution_count": null,
      "metadata": {
        "id": "vqSDG7D8XQps",
        "outputId": "0e0f2466-6b61-4245-afdf-06b5adcfe226"
      },
      "outputs": [
        {
          "data": {
            "text/plain": [
              "[4, 5, 6]"
            ]
          },
          "execution_count": 7,
          "metadata": {},
          "output_type": "execute_result"
        }
      ],
      "source": [
        "lis1 = [1,2,3]\n",
        "list(map(suma3, lis1))"
      ]
    },
    {
      "cell_type": "code",
      "execution_count": null,
      "metadata": {
        "id": "xjZ0f6LeXQps",
        "outputId": "13217159-051d-4b36-ab33-dc56f56ca5de"
      },
      "outputs": [
        {
          "data": {
            "text/plain": [
              "[4, 5, 6]"
            ]
          },
          "execution_count": 8,
          "metadata": {},
          "output_type": "execute_result"
        }
      ],
      "source": [
        "list(map(lambda x: x+3, lis1))"
      ]
    },
    {
      "cell_type": "code",
      "execution_count": null,
      "metadata": {
        "id": "PkONmUdvXQps",
        "outputId": "16697d53-71c5-4187-fd31-69e97585003b"
      },
      "outputs": [
        {
          "data": {
            "text/plain": [
              "[1, 2, 3]"
            ]
          },
          "execution_count": 9,
          "metadata": {},
          "output_type": "execute_result"
        }
      ],
      "source": [
        "lis1"
      ]
    },
    {
      "cell_type": "code",
      "execution_count": null,
      "metadata": {
        "id": "mY6F1S_dXQpt",
        "outputId": "5965d148-eb83-4bb6-a7e3-56c29fceb37e"
      },
      "outputs": [
        {
          "data": {
            "text/plain": [
              "[False, False, True]"
            ]
          },
          "execution_count": 33,
          "metadata": {},
          "output_type": "execute_result"
        }
      ],
      "source": [
        "list(map(lambda x: x > 2, lis1))"
      ]
    },
    {
      "cell_type": "code",
      "execution_count": null,
      "metadata": {
        "id": "4YOKbMEJXQpt",
        "outputId": "ddde9820-442f-4008-d686-666c9a0d9377"
      },
      "outputs": [
        {
          "data": {
            "text/plain": [
              "[3]"
            ]
          },
          "execution_count": 34,
          "metadata": {},
          "output_type": "execute_result"
        }
      ],
      "source": [
        "list(filter(lambda x: x > 2, lis1))"
      ]
    },
    {
      "cell_type": "code",
      "execution_count": null,
      "metadata": {
        "id": "H56Z-cglXQpt",
        "outputId": "a00767dd-7127-4606-c77d-498d524fcc84"
      },
      "outputs": [
        {
          "data": {
            "text/plain": [
              "[5, 6]"
            ]
          },
          "execution_count": 38,
          "metadata": {},
          "output_type": "execute_result"
        }
      ],
      "source": [
        "list(filter(lambda x: x > 4 ,map(lambda x: x + 3, lis1) ))"
      ]
    },
    {
      "cell_type": "code",
      "execution_count": null,
      "metadata": {
        "id": "V7NpO1xoXQp6"
      },
      "outputs": [],
      "source": [
        "lis1 = list(range(5000000))"
      ]
    },
    {
      "cell_type": "code",
      "execution_count": null,
      "metadata": {
        "id": "tUkIPJFPXQp7",
        "outputId": "a4eeb41d-f2bb-4c8d-e86f-554f1fbf4a0b"
      },
      "outputs": [
        {
          "data": {
            "text/plain": [
              "3000000"
            ]
          },
          "execution_count": 31,
          "metadata": {},
          "output_type": "execute_result"
        }
      ],
      "source": [
        "len(lis1)"
      ]
    },
    {
      "cell_type": "markdown",
      "metadata": {
        "id": "7YavjEsKXQp7"
      },
      "source": [
        "- Cada elemento multiplicar por 2 y sumar 3\n",
        "- Filtrar y quedarse con multiplos de 8   \n",
        "%%timeit"
      ]
    },
    {
      "cell_type": "code",
      "execution_count": null,
      "metadata": {
        "id": "o8iy72zKXQp7",
        "outputId": "db28b80e-5dc1-43d4-c32f-aa058ba95278"
      },
      "outputs": [
        {
          "name": "stdout",
          "output_type": "stream",
          "text": [
            "2.08 s ± 39.6 ms per loop (mean ± std. dev. of 7 runs, 1 loop each)\n"
          ]
        }
      ],
      "source": [
        "%%timeit\n",
        "lis2 = list(map(lambda x: 2*x + 3, lis1))\n",
        "lis3 = list(map(lambda x: x - 4, lis2))\n",
        "lis4 = list(filter(lambda x: x % 5 == 0, lis3))"
      ]
    },
    {
      "cell_type": "code",
      "execution_count": null,
      "metadata": {
        "id": "KXKqKuzgXQp8",
        "outputId": "78d906cd-4c19-4707-e0f5-e9caeab9ef50"
      },
      "outputs": [
        {
          "data": {
            "text/plain": [
              "200000"
            ]
          },
          "execution_count": 21,
          "metadata": {},
          "output_type": "execute_result"
        }
      ],
      "source": [
        "len(lis3)"
      ]
    },
    {
      "cell_type": "code",
      "execution_count": null,
      "metadata": {
        "id": "edhlswynXQp8",
        "outputId": "daf186e5-ca15-4ee3-d627-d2f121bcc418"
      },
      "outputs": [
        {
          "name": "stdout",
          "output_type": "stream",
          "text": [
            "2.07 s ± 163 ms per loop (mean ± std. dev. of 7 runs, 1 loop each)\n"
          ]
        }
      ],
      "source": [
        "%%timeit\n",
        "lis3 = list(filter(lambda x: x % 5 == 0, map(lambda x: x - 4 ,  map(lambda x: 2*x + 3, lis1) )))"
      ]
    },
    {
      "cell_type": "code",
      "execution_count": null,
      "metadata": {
        "id": "9ZlAf432XQp8",
        "outputId": "de320100-8e6d-4f91-b0f7-54fff6749cec"
      },
      "outputs": [
        {
          "data": {
            "text/plain": [
              "200000"
            ]
          },
          "execution_count": 38,
          "metadata": {},
          "output_type": "execute_result"
        }
      ],
      "source": [
        "len(lis3)"
      ]
    },
    {
      "cell_type": "markdown",
      "metadata": {
        "id": "xQ0IfLTnXQp9"
      },
      "source": [
        "Validar __rendimiento__ empleando los cprofiler de Python"
      ]
    },
    {
      "cell_type": "code",
      "execution_count": null,
      "metadata": {
        "id": "FeHvDnAHXQp9"
      },
      "outputs": [],
      "source": [
        "import cProfile"
      ]
    },
    {
      "cell_type": "code",
      "execution_count": null,
      "metadata": {
        "id": "RI0s8bmfXQp9"
      },
      "outputs": [],
      "source": [
        "profiler = cProfile.Profile()\n",
        "profiler.enable()"
      ]
    },
    {
      "cell_type": "code",
      "execution_count": null,
      "metadata": {
        "id": "tI-e3FYhXQp9"
      },
      "outputs": [],
      "source": [
        "lis1 = list(range(100))\n",
        "lis3 = list(filter(lambda x: x % 5 == 0, map(lambda x: x - 4 ,  map(lambda x: 2*x + 3, lis1) )))"
      ]
    },
    {
      "cell_type": "code",
      "execution_count": null,
      "metadata": {
        "id": "LEfpLogMXQp9"
      },
      "outputs": [],
      "source": [
        "profiler.disable()\n",
        "profiler.dump_stats(\"example.stats\")"
      ]
    },
    {
      "cell_type": "markdown",
      "metadata": {
        "id": "SwPbrDLhXQp-"
      },
      "source": [
        "__ncalls__: It represents a number of times that function was called. It can have two numbers separated by a slash in case of recursive calls. The first number, in that case, represents total calls including recursive calls and the second number represents primitive calls excluding recursive calls.  \n",
        "__tottime__: It represents total time spent in that function excluding time spent in sub-functions of that function.  \n",
        "__percall__ : It represents tottime divided by ncalls.  \n",
        "__cumtime__ : It represents total time spent in that function including time-spent in sub-functions of that function.  \n",
        "__percall__ : It represents cumtime divided by ncalls.  \n",
        "__filename:lineno(function)__ : It represents filename, line number in file and function name.  "
      ]
    },
    {
      "cell_type": "code",
      "execution_count": null,
      "metadata": {
        "id": "qEILoDc0XQp-"
      },
      "outputs": [],
      "source": [
        "import pstats\n",
        "stats = pstats.Stats(\"example.stats\")\n",
        "stats.print_stats()"
      ]
    },
    {
      "cell_type": "markdown",
      "metadata": {
        "id": "oQ-nkrSmXQp-"
      },
      "source": [
        "Ejemplos __reduce__"
      ]
    },
    {
      "cell_type": "code",
      "execution_count": null,
      "metadata": {
        "id": "xEmKpmOuXQp_"
      },
      "outputs": [],
      "source": [
        "from functools import reduce"
      ]
    },
    {
      "cell_type": "markdown",
      "metadata": {
        "id": "r-ac47IOXQp_"
      },
      "source": [
        "Sumar todos los elementos"
      ]
    },
    {
      "cell_type": "code",
      "execution_count": null,
      "metadata": {
        "id": "A9VkS6tCXQp_",
        "outputId": "f6553904-742b-4b81-fb39-6ad67d84d40a"
      },
      "outputs": [
        {
          "data": {
            "text/plain": [
              "13"
            ]
          },
          "execution_count": 5,
          "metadata": {},
          "output_type": "execute_result"
        }
      ],
      "source": [
        "lis1 = [2, 4, 7]\n",
        "res = reduce((lambda x, y: x + y), lis1)\n",
        "res"
      ]
    },
    {
      "cell_type": "markdown",
      "metadata": {
        "id": "edZaalmeXQp_"
      },
      "source": [
        "Multiplicar todos los elementos"
      ]
    },
    {
      "cell_type": "code",
      "execution_count": null,
      "metadata": {
        "id": "jXD4lYUhXQqA",
        "outputId": "b63b36ac-bd6c-4555-a551-5ad2e54b381f"
      },
      "outputs": [
        {
          "data": {
            "text/plain": [
              "56"
            ]
          },
          "execution_count": 7,
          "metadata": {},
          "output_type": "execute_result"
        }
      ],
      "source": [
        "res = reduce(lambda x, y: x * y, lis1)\n",
        "res"
      ]
    },
    {
      "cell_type": "code",
      "execution_count": null,
      "metadata": {
        "id": "ipeWzHlNXQqA"
      },
      "outputs": [],
      "source": [
        "Obtener el máximo"
      ]
    },
    {
      "cell_type": "code",
      "execution_count": null,
      "metadata": {
        "id": "a6IHsEwPXQqA"
      },
      "outputs": [],
      "source": [
        "lis1 = [5,2,7,4, 9]"
      ]
    },
    {
      "cell_type": "code",
      "execution_count": null,
      "metadata": {
        "id": "bKSbk_eEXQqA",
        "outputId": "5ddf696a-a962-470b-e3f8-858ee63ee746"
      },
      "outputs": [
        {
          "data": {
            "text/plain": [
              "9"
            ]
          },
          "execution_count": 12,
          "metadata": {},
          "output_type": "execute_result"
        }
      ],
      "source": [
        "res = reduce((lambda x, y:  x if (x >= y) else y), lis1)\n",
        "res"
      ]
    },
    {
      "cell_type": "markdown",
      "metadata": {
        "id": "S3PC504mXQqB"
      },
      "source": [
        "Sumar sólo los pares"
      ]
    },
    {
      "cell_type": "code",
      "execution_count": null,
      "metadata": {
        "id": "7w8LOnAWXQqB"
      },
      "outputs": [],
      "source": [
        "lis1 = [1,2,3,4,5,7,8]"
      ]
    },
    {
      "cell_type": "code",
      "execution_count": null,
      "metadata": {
        "id": "8SrCeWA4XQqB",
        "outputId": "b2ece287-4987-40a5-8b96-d42ed9e3ce63"
      },
      "outputs": [
        {
          "data": {
            "text/plain": [
              "14"
            ]
          },
          "execution_count": 22,
          "metadata": {},
          "output_type": "execute_result"
        }
      ],
      "source": [
        "lis1 = [0] + lis1\n",
        "res = reduce(lambda x, y: x + y if y % 2==0 else x, lis1)\n",
        "res"
      ]
    },
    {
      "cell_type": "markdown",
      "metadata": {
        "id": "OXWbqQAgXQqC"
      },
      "source": [
        "Unir listas"
      ]
    },
    {
      "cell_type": "code",
      "execution_count": null,
      "metadata": {
        "id": "yjcpz8m2XQqC"
      },
      "outputs": [],
      "source": [
        "lis1 = [[1,2,5,6], [2,3,4,7], [6,7,8]]"
      ]
    },
    {
      "cell_type": "code",
      "execution_count": null,
      "metadata": {
        "id": "UW_4j2RyXQqC",
        "outputId": "540c9edf-b656-47ee-ebd6-03e40b59bfee"
      },
      "outputs": [
        {
          "data": {
            "text/plain": [
              "[1, 2, 5, 6, 2, 3, 4, 7, 6, 7, 8]"
            ]
          },
          "execution_count": 4,
          "metadata": {},
          "output_type": "execute_result"
        }
      ],
      "source": [
        "res = reduce((lambda x, y: x + y), lis1)\n",
        "res"
      ]
    },
    {
      "cell_type": "code",
      "execution_count": null,
      "metadata": {
        "id": "ph8qL5JdXQqD",
        "outputId": "bffd4fcb-f607-4c88-a3ef-495e6ce74629"
      },
      "outputs": [
        {
          "data": {
            "text/plain": [
              "200000"
            ]
          },
          "execution_count": 19,
          "metadata": {},
          "output_type": "execute_result"
        }
      ],
      "source": [
        "len(lis3)"
      ]
    },
    {
      "cell_type": "code",
      "execution_count": null,
      "metadata": {
        "id": "P1PDATFpXQqD"
      },
      "outputs": [],
      "source": [
        "def empieza_por_a (cad):\n",
        "    if cad[0] == \"a\":\n",
        "        return True\n",
        "    else:\n",
        "        return False"
      ]
    },
    {
      "cell_type": "code",
      "execution_count": null,
      "metadata": {
        "id": "TTBRrbOCXQqD",
        "outputId": "73e36095-84b1-49ae-ccb7-1bf4c027e18c"
      },
      "outputs": [
        {
          "data": {
            "text/plain": [
              "['abc', 'aff']"
            ]
          },
          "execution_count": 41,
          "metadata": {},
          "output_type": "execute_result"
        }
      ],
      "source": [
        "lis2 = [\"abc\", \"sdf\", \"aff\"]\n",
        "list(filter( lambda s: s[0] == \"a\" , lis2))"
      ]
    },
    {
      "cell_type": "code",
      "execution_count": null,
      "metadata": {
        "id": "-tKNce6PXQqE",
        "outputId": "30a042c2-477c-4782-ad0b-ebf7af4dd966"
      },
      "outputs": [
        {
          "data": {
            "text/plain": [
              "['abc', 'aff']"
            ]
          },
          "execution_count": 44,
          "metadata": {},
          "output_type": "execute_result"
        }
      ],
      "source": [
        "list(filter( empieza_por_a , lis2))"
      ]
    },
    {
      "cell_type": "code",
      "execution_count": null,
      "metadata": {
        "id": "sDMT783qXQqE"
      },
      "outputs": [],
      "source": [
        "def suma1(a,b):\n",
        "    res = a+b\n",
        "    return res"
      ]
    },
    {
      "cell_type": "code",
      "execution_count": null,
      "metadata": {
        "id": "37ClvqV1XQqE",
        "outputId": "697a1137-883e-41aa-ae7b-3e064b8483c7"
      },
      "outputs": [
        {
          "data": {
            "text/plain": [
              "5"
            ]
          },
          "execution_count": 25,
          "metadata": {},
          "output_type": "execute_result"
        }
      ],
      "source": [
        "suma1(2,3)"
      ]
    },
    {
      "cell_type": "markdown",
      "metadata": {
        "id": "o7g3qe4EXQqF"
      },
      "source": [
        "Función para copiar ficheros de un directorio a otro"
      ]
    },
    {
      "cell_type": "code",
      "execution_count": null,
      "metadata": {
        "id": "PxVk7m4jXQqF"
      },
      "outputs": [],
      "source": [
        "import os    # módulo para trabajar con el sistema operativo"
      ]
    },
    {
      "cell_type": "code",
      "execution_count": null,
      "metadata": {
        "id": "ZfaujwBeXQqF"
      },
      "outputs": [],
      "source": [
        "list(os.scandir(os.getcwd()))"
      ]
    },
    {
      "cell_type": "code",
      "execution_count": null,
      "metadata": {
        "id": "V8fdp_doXQqG"
      },
      "outputs": [],
      "source": [
        "def obtener_csvs():\n",
        "    os.getcwd() # obtenemos directorio actual\n",
        "    dir = os.getcwd() + '\\\\ficheros'  # directorio origen de ficheros\n",
        "    dir_des = 'dir_csv' #directorio destino para los csvs\n",
        "    os.mkdir(dir_des)  # creamos el directorio destino\n",
        "    for fich in os.scandir(dir): #recorremos todos los ficheros\n",
        "        fichs = str(fich.name)\n",
        "        print(\"Fichero: \" + fichs)\n",
        "        if fichs.find('csv') > 0:\n",
        "            print(\"Copiando ... \" + fichs)\n",
        "            os.system('copy ' + dir + '\\\\' + fichs + ' ' + os.getcwd() + '\\\\' + dir_des)"
      ]
    },
    {
      "cell_type": "code",
      "execution_count": null,
      "metadata": {
        "id": "nevd0Ac2XQqG",
        "outputId": "bbd5f012-3720-4644-933e-dae4e8331b8d"
      },
      "outputs": [
        {
          "name": "stdout",
          "output_type": "stream",
          "text": [
            "Fichero: .ipynb_checkpoints\n",
            "Fichero: f_ventas1.csv\n",
            "Copiando ... f_ventas1.csv\n",
            "Fichero: f_ventas1.txt\n",
            "Fichero: f_ventas1.xlsx\n",
            "Fichero: ventas_producto.csv\n",
            "Copiando ... ventas_producto.csv\n"
          ]
        }
      ],
      "source": [
        "obtener_csvs()"
      ]
    },
    {
      "cell_type": "markdown",
      "metadata": {
        "id": "OHR6Ep-8XQqH"
      },
      "source": [
        "Trabajar con numero de argumentos fijo o variable: * args y ** args"
      ]
    },
    {
      "cell_type": "markdown",
      "metadata": {
        "id": "SW5kKWBfXQqH"
      },
      "source": [
        "Numero de argumentos fijo"
      ]
    },
    {
      "cell_type": "code",
      "execution_count": null,
      "metadata": {
        "id": "zSz8wTwvXQqH"
      },
      "outputs": [],
      "source": [
        "def suma1 (var1, var2, var3): # espera 3 valores\n",
        "    return (var1 + var2 + var3)"
      ]
    },
    {
      "cell_type": "code",
      "execution_count": null,
      "metadata": {
        "id": "1w7Z3IL6XQqH",
        "outputId": "e020679f-0217-4638-8878-dc34f0780fb5"
      },
      "outputs": [
        {
          "ename": "TypeError",
          "evalue": "suma1() missing 1 required positional argument: 'var3'",
          "output_type": "error",
          "traceback": [
            "\u001b[1;31m---------------------------------------------------------------------------\u001b[0m",
            "\u001b[1;31mTypeError\u001b[0m                                 Traceback (most recent call last)",
            "\u001b[1;32m<ipython-input-8-7aa9357a3a79>\u001b[0m in \u001b[0;36m<module>\u001b[1;34m\u001b[0m\n\u001b[0;32m      1\u001b[0m \u001b[1;31m#suma1(2,3,5)\u001b[0m\u001b[1;33m\u001b[0m\u001b[1;33m\u001b[0m\u001b[1;33m\u001b[0m\u001b[0m\n\u001b[1;32m----> 2\u001b[1;33m \u001b[0msuma1\u001b[0m\u001b[1;33m(\u001b[0m\u001b[1;36m2\u001b[0m\u001b[1;33m,\u001b[0m\u001b[1;36m4\u001b[0m\u001b[1;33m)\u001b[0m\u001b[1;33m\u001b[0m\u001b[1;33m\u001b[0m\u001b[0m\n\u001b[0m",
            "\u001b[1;31mTypeError\u001b[0m: suma1() missing 1 required positional argument: 'var3'"
          ]
        }
      ],
      "source": [
        "#suma1(2,3,5)\n",
        "suma1(2,4)"
      ]
    },
    {
      "cell_type": "code",
      "execution_count": null,
      "metadata": {
        "id": "q775jyq0XQqI"
      },
      "outputs": [],
      "source": [
        "def suma2 (*vars): # no espera un número definido de valores\n",
        "    print(type(vars))\n",
        "    acum = 0\n",
        "    for elem in vars:\n",
        "        acum+=elem\n",
        "    return acum"
      ]
    },
    {
      "cell_type": "code",
      "execution_count": null,
      "metadata": {
        "id": "FlgcqN0tXQqI",
        "outputId": "aca3fb39-7f9a-4503-9e17-27b0f9a65190"
      },
      "outputs": [
        {
          "name": "stdout",
          "output_type": "stream",
          "text": [
            "<class 'tuple'>\n"
          ]
        },
        {
          "data": {
            "text/plain": [
              "9"
            ]
          },
          "execution_count": 20,
          "metadata": {},
          "output_type": "execute_result"
        }
      ],
      "source": [
        "suma2(2,3,4)"
      ]
    },
    {
      "cell_type": "code",
      "execution_count": null,
      "metadata": {
        "id": "n50rUcQjXQqJ"
      },
      "outputs": [],
      "source": [
        "def info_curso(**info): #espera un número variable de elementos clave-valor\n",
        "    for clave, valor in info.items(): # el bucle recorre 2 elementos (clave y valor)\n",
        "        print(clave,\"=\",valor)"
      ]
    },
    {
      "cell_type": "code",
      "execution_count": null,
      "metadata": {
        "id": "H_D2ZTIiXQqK",
        "outputId": "cc9e7869-976c-4a12-e550-3b8b101263a0"
      },
      "outputs": [
        {
          "name": "stdout",
          "output_type": "stream",
          "text": [
            "curso = Python\n",
            "duracion = 20\n",
            "tipo_curso = Programación\n"
          ]
        }
      ],
      "source": [
        "info_curso(curso=\"Python\", duracion = 20, tipo_curso=\"Programación\") # en la llamada hay un numero\n",
        "#variable de elementos de tipo clave=valor"
      ]
    },
    {
      "cell_type": "markdown",
      "metadata": {
        "id": "HjTqRrymXQqL"
      },
      "source": [
        "Ejemplo funciones lambda y map"
      ]
    },
    {
      "cell_type": "markdown",
      "metadata": {
        "id": "NoUEcodKXQqM"
      },
      "source": [
        "Desempaquetar una lista en una función"
      ]
    },
    {
      "cell_type": "code",
      "execution_count": null,
      "metadata": {
        "id": "5l_HOD5JXQqM"
      },
      "outputs": [],
      "source": [
        "def comparar(a,b):\n",
        "    if a == b:\n",
        "        print(\"Son iguales\")\n",
        "    else:\n",
        "        print(\"Son distintos\")"
      ]
    },
    {
      "cell_type": "code",
      "execution_count": null,
      "metadata": {
        "id": "gfBo6uhSXQqM",
        "outputId": "4ff2ecc9-260d-42af-c323-f600c7cce4bc"
      },
      "outputs": [
        {
          "name": "stdout",
          "output_type": "stream",
          "text": [
            "Son distintos\n"
          ]
        }
      ],
      "source": [
        "lis = [1,2]\n",
        "#comparar(1,2)\n",
        "#comparar(lis)\n",
        "comparar(*lis)  # El asterisco permite desempaquetar la lista"
      ]
    },
    {
      "cell_type": "markdown",
      "metadata": {
        "id": "Pt9u_hiWXQqN"
      },
      "source": [
        "Una función puede devolver valores como un generador"
      ]
    },
    {
      "cell_type": "code",
      "execution_count": null,
      "metadata": {
        "id": "aORPZF55XQqN"
      },
      "outputs": [],
      "source": [
        "def obt_multiplos23(lis):\n",
        "    # obtenemos multiplos de 3 o 2\n",
        "    for val in lis:\n",
        "        if val%2 == 0:\n",
        "            yield val\n",
        "        elif val%3 == 0:\n",
        "            yield val\n",
        "        else:\n",
        "            pass"
      ]
    },
    {
      "cell_type": "code",
      "execution_count": null,
      "metadata": {
        "id": "8CCfE-TUXQqN",
        "outputId": "511c18f9-4d4b-4a1d-ab08-a43ca11907f2"
      },
      "outputs": [
        {
          "data": {
            "text/plain": [
              "[2, 3, 4, 6, 8, 9, 10, 12, 14, 15]"
            ]
          },
          "execution_count": 21,
          "metadata": {},
          "output_type": "execute_result"
        }
      ],
      "source": [
        "lis1 = [1,2,3,4,5,6,7,8,9,10,11,12,13,14,15]\n",
        "lisres = list(obt_multiplos23(lis1))\n",
        "lisres"
      ]
    },
    {
      "cell_type": "code",
      "execution_count": null,
      "metadata": {
        "id": "9SPdItpJXQqN",
        "outputId": "44fbe3bf-75db-4127-e336-c4311a6ecdbc"
      },
      "outputs": [
        {
          "name": "stdout",
          "output_type": "stream",
          "text": [
            "2\n",
            "3\n",
            "4\n",
            "6\n",
            "8\n",
            "9\n",
            "10\n",
            "12\n",
            "14\n",
            "15\n"
          ]
        }
      ],
      "source": [
        "for val in obt_multiplos23(lis1):\n",
        "    print(val)"
      ]
    },
    {
      "cell_type": "code",
      "execution_count": null,
      "metadata": {
        "id": "im12cJRCXQqO",
        "outputId": "6f53e772-511e-4952-9f94-3269dc4b6bc9"
      },
      "outputs": [
        {
          "name": "stdout",
          "output_type": "stream",
          "text": [
            "2\n",
            "3\n",
            "4\n",
            "6\n",
            "8\n",
            "9\n",
            "10\n",
            "12\n",
            "14\n",
            "15\n"
          ]
        }
      ],
      "source": [
        "for val in obt_multiplos23(lis1):\n",
        "    print(val)"
      ]
    },
    {
      "cell_type": "markdown",
      "metadata": {
        "id": "t2PIVneVXQqO"
      },
      "source": [
        "Las funciones pueden ser pasadas como argumento a otra función"
      ]
    },
    {
      "cell_type": "code",
      "execution_count": null,
      "metadata": {
        "id": "EJ48vcdzXQqO",
        "outputId": "374a48d4-25e0-41c5-beb6-aeadf68138dc"
      },
      "outputs": [
        {
          "name": "stdout",
          "output_type": "stream",
          "text": [
            "Ejecutando función 1\n"
          ]
        }
      ],
      "source": [
        "#Definir la función 1\n",
        "def funcion1():\n",
        "   print(\"Ejecutando función 1\")\n",
        "funcion1()"
      ]
    },
    {
      "cell_type": "code",
      "execution_count": null,
      "metadata": {
        "id": "PhNHmduxXQqO",
        "outputId": "06e3cb7b-1356-4236-ece0-67f0d9260360"
      },
      "outputs": [
        {
          "name": "stdout",
          "output_type": "stream",
          "text": [
            "Llamando a función pasada por parámetro funcion1\n",
            "Ejecutando función 1\n"
          ]
        }
      ],
      "source": [
        "#Definir la función2 recibe com argumento la funcion 1\n",
        "def funcion2(funcparam):\n",
        "    print(\"Llamando a función pasada por parámetro \"+ funcparam.__name__)\n",
        "    #Llamar a la función por el nombre pasado por parámetro\n",
        "    funcparam()\n",
        "\n",
        "#Llamar a la función A pasando por parámetro el nombre de la función B\n",
        "funcion2(funcion1)"
      ]
    },
    {
      "cell_type": "markdown",
      "metadata": {
        "id": "NDYR4jE9XQqP"
      },
      "source": [
        "Ejemplo de __decoradores__ en Python. Las funciones pueden ser pasadas como argumento y pueden ser retornadas (return).Un decorador recibe como argumento una función y devuelve otra. Permiten alterar el comportamiento de una función."
      ]
    },
    {
      "cell_type": "code",
      "execution_count": null,
      "metadata": {
        "id": "Sr_jItvzXQqP"
      },
      "outputs": [],
      "source": [
        "#Definir la función funcdec recibe com argumento la funcion 1\n",
        "def funcion2(funcparam):\n",
        "    def funcnueva():\n",
        "        print(\"Codigo funcion nueva 1\")\n",
        "        #Llamar a la función por el nombre pasado por parámetro\n",
        "        funcparam()\n",
        "        print(\"Codigo funcion nueva 2\")\n",
        "    return funcnueva"
      ]
    },
    {
      "cell_type": "code",
      "execution_count": null,
      "metadata": {
        "id": "UDyVqdIkXQqP",
        "outputId": "ce7b2e24-33ac-40e6-94b0-218a8f4ed582"
      },
      "outputs": [
        {
          "name": "stdout",
          "output_type": "stream",
          "text": [
            "Ejecutando función 1\n"
          ]
        }
      ],
      "source": [
        "#Llamar función sin decorar\n",
        "funcion1()"
      ]
    },
    {
      "cell_type": "code",
      "execution_count": null,
      "metadata": {
        "id": "b7X1cZ0HXQqQ",
        "outputId": "880e840e-d869-4f28-e432-546723071a5e"
      },
      "outputs": [
        {
          "name": "stdout",
          "output_type": "stream",
          "text": [
            "Codigo funcion nueva 1\n",
            "Ejecutando función 1\n",
            "Codigo funcion nueva 2\n"
          ]
        }
      ],
      "source": [
        "#Decorar función\n",
        "funcion1dec = funcion2(funcion1)\n",
        "#Llamar función decorada. Puedo añadir nueva funcionalidad sobre la anterior\n",
        "funcion1dec()"
      ]
    },
    {
      "cell_type": "markdown",
      "metadata": {
        "id": "XB0VMB_wXQqQ"
      },
      "source": [
        "Funciones lambda    \n",
        "_lambda arguments : expression_"
      ]
    },
    {
      "cell_type": "code",
      "execution_count": null,
      "metadata": {
        "id": "S8njeB2mXQqR",
        "outputId": "9ba1dab3-49a5-474c-e7cc-5a1939e654c3"
      },
      "outputs": [
        {
          "data": {
            "text/plain": [
              "15"
            ]
          },
          "execution_count": 1,
          "metadata": {},
          "output_type": "execute_result"
        }
      ],
      "source": [
        "f = lambda x : x + 10\n",
        "f(5)"
      ]
    },
    {
      "cell_type": "markdown",
      "metadata": {
        "id": "PdVzd5RzXQqR"
      },
      "source": [
        "Lamba con condicionales"
      ]
    },
    {
      "cell_type": "code",
      "execution_count": null,
      "metadata": {
        "scrolled": true,
        "id": "0XHqsOpGXQqR",
        "outputId": "b043b9b0-fe52-4100-9990-97c5cddade9e"
      },
      "outputs": [
        {
          "data": {
            "text/plain": [
              "'Menor de edad'"
            ]
          },
          "execution_count": 3,
          "metadata": {},
          "output_type": "execute_result"
        }
      ],
      "source": [
        "f1 = lambda edad: \"Mayor de edad\" if edad >= 18 else \"Menor de edad\"\n",
        "f1(10)"
      ]
    },
    {
      "cell_type": "markdown",
      "metadata": {
        "id": "DymcaE41XQqS"
      },
      "source": [
        "Emplear una función lambda para ordenar"
      ]
    },
    {
      "cell_type": "code",
      "execution_count": null,
      "metadata": {
        "id": "U_1t6xfxXQqS"
      },
      "outputs": [],
      "source": [
        "lis1 = [\"arbol\", \"hoja\", \"tronco\", \"raíz\", \"bosque\", \"frondosidad\"]\n",
        "lis1.sort()"
      ]
    },
    {
      "cell_type": "code",
      "execution_count": null,
      "metadata": {
        "id": "lYBqi_gDXQqS",
        "outputId": "41e10877-7556-4110-eda9-caed6a3cbec5"
      },
      "outputs": [
        {
          "data": {
            "text/plain": [
              "['arbol', 'bosque', 'frondosidad', 'hoja', 'raíz', 'tronco']"
            ]
          },
          "execution_count": 8,
          "metadata": {},
          "output_type": "execute_result"
        }
      ],
      "source": [
        "lis1"
      ]
    },
    {
      "cell_type": "markdown",
      "metadata": {
        "id": "JpeuDrvpXQqT"
      },
      "source": [
        "Ordenamos por un criterio marcado por una función lambda"
      ]
    },
    {
      "cell_type": "code",
      "execution_count": null,
      "metadata": {
        "id": "f-j_TpSrXQqT",
        "outputId": "b01e3878-bab2-415f-d6a1-f71c948d5a76"
      },
      "outputs": [
        {
          "data": {
            "text/plain": [
              "['hoja', 'raíz', 'arbol', 'bosque', 'tronco', 'frondosidad']"
            ]
          },
          "execution_count": 9,
          "metadata": {},
          "output_type": "execute_result"
        }
      ],
      "source": [
        "lis1.sort(key=lambda x: len(x))\n",
        "lis1"
      ]
    },
    {
      "cell_type": "markdown",
      "metadata": {
        "id": "Y-aPT5sAXQqT"
      },
      "source": [
        "Llamada inmediata"
      ]
    },
    {
      "cell_type": "code",
      "execution_count": null,
      "metadata": {
        "id": "3cYi86N3XQqU",
        "outputId": "2a4d1e9a-e1ba-41e1-dd82-be12a509bdfa"
      },
      "outputs": [
        {
          "data": {
            "text/plain": [
              "10"
            ]
          },
          "execution_count": 11,
          "metadata": {},
          "output_type": "execute_result"
        }
      ],
      "source": [
        "(lambda x,y:x*y)(2,5)"
      ]
    },
    {
      "cell_type": "markdown",
      "metadata": {
        "id": "fAd8M49WXQqU"
      },
      "source": [
        "Puedo definir __test unitarios__ sobre las funciones para realizar __pruebas automatizadas__"
      ]
    },
    {
      "cell_type": "code",
      "execution_count": null,
      "metadata": {
        "id": "GG4adLEsXQqU"
      },
      "outputs": [],
      "source": [
        "def fsum(*vars):\n",
        "    sum=0\n",
        "    for var in vars:\n",
        "        sum = sum + var\n",
        "    return sum"
      ]
    },
    {
      "cell_type": "code",
      "execution_count": null,
      "metadata": {
        "id": "DhzVfpVGXQqU",
        "outputId": "477bb925-5a0b-43c6-8ade-c4fa49de4573"
      },
      "outputs": [
        {
          "data": {
            "text/plain": [
              "0"
            ]
          },
          "execution_count": 11,
          "metadata": {},
          "output_type": "execute_result"
        }
      ],
      "source": [
        "fsum(1,2,3)"
      ]
    },
    {
      "cell_type": "markdown",
      "metadata": {
        "id": "Uyi4SO4JXQqV"
      },
      "source": [
        "Defino test sobre la función, que es recomendable ejecutar cada vez que haga un cambio"
      ]
    },
    {
      "cell_type": "code",
      "execution_count": null,
      "metadata": {
        "id": "j55WyIWDXQqV"
      },
      "outputs": [],
      "source": [
        "def test_fsum():\n",
        "    assert fsum(1, 2, 3) == 6, \"Should be 6\""
      ]
    },
    {
      "cell_type": "code",
      "execution_count": null,
      "metadata": {
        "scrolled": true,
        "id": "5GjHLKlNXQqV"
      },
      "outputs": [],
      "source": [
        "test_fsum()"
      ]
    },
    {
      "cell_type": "markdown",
      "metadata": {
        "id": "owU-eq6dXQqV"
      },
      "source": [
        "Ejecutar otro notebook desde este notebook"
      ]
    },
    {
      "cell_type": "code",
      "execution_count": null,
      "metadata": {
        "id": "pFED26uIXQqV"
      },
      "outputs": [],
      "source": [
        "%run prueba.ipynb"
      ]
    }
  ],
  "metadata": {
    "kernelspec": {
      "display_name": "Python 3",
      "language": "python",
      "name": "python3"
    },
    "language_info": {
      "codemirror_mode": {
        "name": "ipython",
        "version": 3
      },
      "file_extension": ".py",
      "mimetype": "text/x-python",
      "name": "python",
      "nbconvert_exporter": "python",
      "pygments_lexer": "ipython3",
      "version": "3.8.8"
    },
    "colab": {
      "provenance": []
    }
  },
  "nbformat": 4,
  "nbformat_minor": 0
}