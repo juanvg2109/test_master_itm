{
 "cells": [
  {
   "cell_type": "markdown",
   "metadata": {},
   "source": [
    "# Trabajar con ficheros"
   ]
  },
  {
   "cell_type": "markdown",
   "metadata": {},
   "source": [
    "Ejemplo lectura de fichero: subir previamente el fichero"
   ]
  },
  {
   "cell_type": "code",
   "execution_count": null,
   "metadata": {},
   "outputs": [],
   "source": [
    "f = open(\"ficheros\\\\f_ventas1.txt\",'r') \n",
    "for line in f: \n",
    "    campos = line.split(\";\")\n",
    "    print(line) \n",
    "f.close()"
   ]
  },
  {
   "cell_type": "markdown",
   "metadata": {},
   "source": [
    "Leer ficjero y guardarlo en una lista"
   ]
  },
  {
   "cell_type": "code",
   "execution_count": 6,
   "metadata": {},
   "outputs": [
    {
     "data": {
      "text/plain": [
       "[['oficina', 'vendedor', 'producto', 'unidades\\n'],\n",
       " ['Madrid', 'm_vendedor1', 'P1', '20\\n'],\n",
       " ['Madrid', 'm_vendedor1', 'P2', '19\\n'],\n",
       " ['Madrid', 'm_vendedor1', 'P3', '8\\n'],\n",
       " ['Madrid', 'm_vendedor1', 'P4', '5\\n'],\n",
       " ['Madrid', 'm_vendedor1', 'P5', '18\\n'],\n",
       " ['Madrid', 'm_vendedor4', 'P14', '1\\n'],\n",
       " ['Madrid', 'm_vendedor4', 'P15', '7\\n'],\n",
       " ['Valencia', 'v_vendedor1', 'P10', '1\\n'],\n",
       " ['Valencia', 'v_vendedor1', 'P11', '2\\n'],\n",
       " ['Valencia', 'v_vendedor1', 'P12', '0\\n'],\n",
       " ['Valencia', 'v_vendedor1', 'P13', '19\\n'],\n",
       " ['Valencia', 'v_vendedor1', 'P14', '2\\n'],\n",
       " ['Valencia', 'v_vendedor1', 'P15', '6\\n'],\n",
       " ['Valencia', 'v_vendedor1', 'P16', '4\\n'],\n",
       " ['Valencia', 'v_vendedor1', 'P17', '15\\n'],\n",
       " ['Valencia', 'v_vendedor1', 'P18', '10\\n'],\n",
       " ['Valencia', 'v_vendedor1', 'P19', '18\\n'],\n",
       " ['Lisboa', 'l_vendedor1', 'P9', '11\\n'],\n",
       " ['Lisboa', 'l_vendedor1', 'P10', '10\\n'],\n",
       " ['Lisboa', 'l_vendedor1', 'P11', '10\\n'],\n",
       " ['Lisboa', 'l_vendedor1', 'P12', '16\\n'],\n",
       " ['Lisboa', 'l_vendedor1', 'P13', '16\\n'],\n",
       " ['Lisboa', 'l_vendedor1', 'P14', '1\\n'],\n",
       " ['Lisboa', 'l_vendedor1', 'P15', '6\\n'],\n",
       " ['Lisboa', 'l_vendedor1', 'P16', '16\\n'],\n",
       " ['Lisboa', 'l_vendedor1', 'P17', '15\\n'],\n",
       " ['Lisboa', 'l_vendedor1', 'P18', '13\\n'],\n",
       " ['Lisboa', 'l_vendedor1', 'P19', '7\\n'],\n",
       " ['Lisboa', 'l_vendedor1', 'P20', '6\\n'],\n",
       " ['Lisboa', 'l_vendedor2', 'P1', '20\\n'],\n",
       " ['Lisboa', 'l_vendedor2', 'P2', '19\\n'],\n",
       " ['Lisboa', 'l_vendedor2', 'P3', '11\\n'],\n",
       " ['Lisboa', 'l_vendedor2', 'P4', '4\\n'],\n",
       " ['Lisboa', 'l_vendedor2', 'P5', '16\\n']]"
      ]
     },
     "execution_count": 6,
     "metadata": {},
     "output_type": "execute_result"
    }
   ],
   "source": [
    "lis_f = []\n",
    "f = open(\"ficheros\\\\f_ventas1.txt\",'r') \n",
    "for line in f: \n",
    "    lis_f.append(line.split(\";\"))\n",
    "f.close()\n",
    "lis_f"
   ]
  },
  {
   "cell_type": "code",
   "execution_count": null,
   "metadata": {},
   "outputs": [],
   "source": []
  }
 ],
 "metadata": {
  "kernelspec": {
   "display_name": "Python 3",
   "language": "python",
   "name": "python3"
  },
  "language_info": {
   "codemirror_mode": {
    "name": "ipython",
    "version": 3
   },
   "file_extension": ".py",
   "mimetype": "text/x-python",
   "name": "python",
   "nbconvert_exporter": "python",
   "pygments_lexer": "ipython3",
   "version": "3.7.1"
  }
 },
 "nbformat": 4,
 "nbformat_minor": 2
}
